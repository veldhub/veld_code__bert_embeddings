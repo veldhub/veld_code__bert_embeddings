{
 "cells": [
  {
   "cell_type": "code",
   "execution_count": 20,
   "id": "6b851009-b15e-4d63-84c9-fed9e8d4b77f",
   "metadata": {},
   "outputs": [],
   "source": [
    "import torch\n",
    "import numpy as np\n",
    "from transformers import AutoTokenizer, AutoModel\n",
    "import torch.nn.functional as F"
   ]
  },
  {
   "cell_type": "code",
   "execution_count": 3,
   "id": "720552e3-a310-43d8-b93c-6d95a61ad360",
   "metadata": {},
   "outputs": [],
   "source": [
    "MODEL_NAME = \"deepset/gbert-base\""
   ]
  },
  {
   "cell_type": "code",
   "execution_count": 5,
   "id": "068756b4-bf39-4f82-821a-2993c205c97a",
   "metadata": {},
   "outputs": [
    {
     "data": {
      "text/plain": [
       "BertModel(\n",
       "  (embeddings): BertEmbeddings(\n",
       "    (word_embeddings): Embedding(31102, 768, padding_idx=0)\n",
       "    (position_embeddings): Embedding(512, 768)\n",
       "    (token_type_embeddings): Embedding(2, 768)\n",
       "    (LayerNorm): LayerNorm((768,), eps=1e-12, elementwise_affine=True)\n",
       "    (dropout): Dropout(p=0.1, inplace=False)\n",
       "  )\n",
       "  (encoder): BertEncoder(\n",
       "    (layer): ModuleList(\n",
       "      (0-11): 12 x BertLayer(\n",
       "        (attention): BertAttention(\n",
       "          (self): BertSdpaSelfAttention(\n",
       "            (query): Linear(in_features=768, out_features=768, bias=True)\n",
       "            (key): Linear(in_features=768, out_features=768, bias=True)\n",
       "            (value): Linear(in_features=768, out_features=768, bias=True)\n",
       "            (dropout): Dropout(p=0.1, inplace=False)\n",
       "          )\n",
       "          (output): BertSelfOutput(\n",
       "            (dense): Linear(in_features=768, out_features=768, bias=True)\n",
       "            (LayerNorm): LayerNorm((768,), eps=1e-12, elementwise_affine=True)\n",
       "            (dropout): Dropout(p=0.1, inplace=False)\n",
       "          )\n",
       "        )\n",
       "        (intermediate): BertIntermediate(\n",
       "          (dense): Linear(in_features=768, out_features=3072, bias=True)\n",
       "          (intermediate_act_fn): GELUActivation()\n",
       "        )\n",
       "        (output): BertOutput(\n",
       "          (dense): Linear(in_features=3072, out_features=768, bias=True)\n",
       "          (LayerNorm): LayerNorm((768,), eps=1e-12, elementwise_affine=True)\n",
       "          (dropout): Dropout(p=0.1, inplace=False)\n",
       "        )\n",
       "      )\n",
       "    )\n",
       "  )\n",
       "  (pooler): BertPooler(\n",
       "    (dense): Linear(in_features=768, out_features=768, bias=True)\n",
       "    (activation): Tanh()\n",
       "  )\n",
       ")"
      ]
     },
     "execution_count": 5,
     "metadata": {},
     "output_type": "execute_result"
    }
   ],
   "source": [
    "tokenizer = AutoTokenizer.from_pretrained(MODEL_NAME)\n",
    "model = AutoModel.from_pretrained(MODEL_NAME)\n",
    "model.eval()"
   ]
  },
  {
   "cell_type": "code",
   "execution_count": 35,
   "id": "9d21902b-271e-4ce0-99ca-2f7040ac5861",
   "metadata": {},
   "outputs": [],
   "source": [
    "def get_vectors(text):\n",
    "    inputs = tokenizer(text, return_tensors=\"pt\", add_special_tokens=True)\n",
    "    tokens = tokenizer.convert_ids_to_tokens(inputs[\"input_ids\"][0])\n",
    "    with torch.no_grad():\n",
    "        outputs = model(**inputs)\n",
    "        embeddings = outputs.last_hidden_state\n",
    "    return embeddings, tokens"
   ]
  },
  {
   "cell_type": "code",
   "execution_count": 107,
   "id": "e2889208-0f2f-4a7a-a53f-dc7578d907a0",
   "metadata": {},
   "outputs": [],
   "source": [
    "embeddings_1, tokens_1 = get_vectors(\"Ich sitze auf der Bank.\")\n",
    "embeddings_2, tokens_2 = get_vectors(\"Diese Bank ist aus Holz.\")\n",
    "embeddings_3, tokens_3 = get_vectors(\"Ich lege mein Geld auf dieser Bank in Wertpapiere an.\")\n",
    "embeddings_4, tokens_4 = get_vectors(\"Ich lege mein Geld bei dieser Bank in Wertpapiere an.\")"
   ]
  },
  {
   "cell_type": "code",
   "execution_count": 108,
   "id": "e4d99a99-7a18-444d-9f01-a0fb290ed8ff",
   "metadata": {},
   "outputs": [],
   "source": [
    "embeddings_1 = embeddings_1.squeeze(0)\n",
    "embeddings_2 = embeddings_2.squeeze(0)\n",
    "embeddings_3 = embeddings_3.squeeze(0)\n",
    "embeddings_4 = embeddings_4.squeeze(0)"
   ]
  },
  {
   "cell_type": "code",
   "execution_count": 109,
   "id": "f82e242c-4804-4153-b938-5217fc8a103f",
   "metadata": {},
   "outputs": [
    {
     "name": "stdout",
     "output_type": "stream",
     "text": [
      "torch.Size([9, 768])\n",
      "torch.Size([8, 768])\n",
      "torch.Size([15, 768])\n",
      "torch.Size([15, 768])\n"
     ]
    }
   ],
   "source": [
    "print(embeddings_1.shape)\n",
    "print(embeddings_2.shape)\n",
    "print(embeddings_3.shape)\n",
    "print(embeddings_4.shape)"
   ]
  },
  {
   "cell_type": "code",
   "execution_count": 110,
   "id": "291485e1-d6ea-4841-bf08-299cf2090293",
   "metadata": {},
   "outputs": [
    {
     "name": "stdout",
     "output_type": "stream",
     "text": [
      "9\n",
      "8\n",
      "15\n",
      "15\n"
     ]
    }
   ],
   "source": [
    "print(len(tokens_1))\n",
    "print(len(tokens_2))\n",
    "print(len(tokens_3))\n",
    "print(len(tokens_4))"
   ]
  },
  {
   "cell_type": "code",
   "execution_count": 113,
   "id": "4fa9b0c8-3314-4c8f-aab6-2cad9b8ab805",
   "metadata": {},
   "outputs": [
    {
     "name": "stdout",
     "output_type": "stream",
     "text": [
      "['[CLS]', 'Ich', 'sit', '##ze', 'auf', 'der', 'Bank', '.', '[SEP]']\n",
      "Bank\n",
      "['[CLS]', 'Diese', 'Bank', 'ist', 'aus', 'Holz', '.', '[SEP]']\n",
      "Bank\n",
      "['[CLS]', 'Ich', 'leg', '##e', 'mein', 'Geld', 'auf', 'dieser', 'Bank', 'in', 'Wertpapier', '##e', 'an', '.', '[SEP]']\n",
      "Bank\n",
      "['[CLS]', 'Ich', 'leg', '##e', 'mein', 'Geld', 'bei', 'dieser', 'Bank', 'in', 'Wertpapier', '##e', 'an', '.', '[SEP]']\n",
      "Bank\n"
     ]
    }
   ],
   "source": [
    "print(tokens_1)\n",
    "print(tokens_1[6])\n",
    "print(tokens_2)\n",
    "print(tokens_2[2])\n",
    "print(tokens_3)\n",
    "print(tokens_3[8])\n",
    "print(tokens_4)\n",
    "print(tokens_4[8])"
   ]
  },
  {
   "cell_type": "code",
   "execution_count": 116,
   "id": "51e811e4-1495-4a5d-9ded-5d1850bd7452",
   "metadata": {},
   "outputs": [],
   "source": [
    "v_1 = embeddings_1[6]\n",
    "v_2 = embeddings_2[2]\n",
    "v_3 = embeddings_3[8]\n",
    "v_4 = embeddings_4[8]"
   ]
  },
  {
   "cell_type": "code",
   "execution_count": 117,
   "id": "d20937b0-913a-40ca-ab6f-e00eeaab199b",
   "metadata": {},
   "outputs": [
    {
     "name": "stdout",
     "output_type": "stream",
     "text": [
      "1, 2 0.6724907755851746\n",
      "1, 3 0.6367990970611572\n",
      "1, 4 0.6208581328392029\n",
      "2, 3 0.6761319041252136\n",
      "2, 4 0.693832278251648\n",
      "3, 4 0.8559741377830505\n"
     ]
    }
   ],
   "source": [
    "print(\"1, 2\", F.cosine_similarity(v_1, v_2, dim=0).item())\n",
    "print(\"1, 3\", F.cosine_similarity(v_1, v_3, dim=0).item())\n",
    "print(\"1, 4\", F.cosine_similarity(v_1, v_4, dim=0).item())\n",
    "print(\"2, 3\", F.cosine_similarity(v_2, v_3, dim=0).item())\n",
    "print(\"2, 4\", F.cosine_similarity(v_2, v_4, dim=0).item())\n",
    "print(\"3, 4\", F.cosine_similarity(v_3, v_4, dim=0).item())"
   ]
  },
  {
   "cell_type": "code",
   "execution_count": null,
   "id": "fd426895-ec8a-4b00-a038-78a06ef78c86",
   "metadata": {},
   "outputs": [],
   "source": []
  }
 ],
 "metadata": {
  "kernelspec": {
   "display_name": "Python 3 (ipykernel)",
   "language": "python",
   "name": "python3"
  },
  "language_info": {
   "codemirror_mode": {
    "name": "ipython",
    "version": 3
   },
   "file_extension": ".py",
   "mimetype": "text/x-python",
   "name": "python",
   "nbconvert_exporter": "python",
   "pygments_lexer": "ipython3",
   "version": "3.10.12"
  }
 },
 "nbformat": 4,
 "nbformat_minor": 5
}
